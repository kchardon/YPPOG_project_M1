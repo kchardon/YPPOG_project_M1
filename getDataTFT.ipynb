{
 "cells": [
  {
   "cell_type": "code",
   "execution_count": 15,
   "metadata": {},
   "outputs": [],
   "source": [
    "from riotwatcher import TftWatcher, ApiError\n",
    "import requests\n",
    "from riot_api import key\n",
    "\n",
    "region = 'euw1'\n",
    "\n",
    "tft = TftWatcher(key)"
   ]
  },
  {
   "cell_type": "code",
   "execution_count": 4,
   "metadata": {},
   "outputs": [],
   "source": [
    "me = tft.summoner.by_name(region,'Katiounette')\n",
    "puuid = me['puuid']"
   ]
  },
  {
   "cell_type": "code",
   "execution_count": 24,
   "metadata": {},
   "outputs": [
    {
     "name": "stdout",
     "output_type": "stream",
     "text": [
      "['EUW1_5920949216', 'EUW1_5905958035', 'EUW1_5904202937', 'EUW1_5901438671', 'EUW1_5901060572', 'EUW1_5900947335', 'EUW1_5899254752', 'EUW1_5891085081', 'EUW1_5891071121', 'EUW1_5890124953', 'EUW1_5886066492', 'EUW1_5885898460', 'EUW1_5885786261', 'EUW1_5885747271', 'EUW1_5884569632', 'EUW1_5884582187', 'EUW1_5883900987', 'EUW1_5883876333', 'EUW1_5883817260', 'EUW1_5882398059']\n"
     ]
    }
   ],
   "source": [
    "matchs = tft.match.by_puuid(region,puuid, count = 100)\n",
    "i = 100\n",
    "while (requests.get('https://europe.api.riotgames.com/tft/match/v1/matches/by-puuid/'+puuid+'/ids?start='+str(i)+'&count=100&api_key='+key).json() != []):\n",
    "    r = requests.get('https://europe.api.riotgames.com/tft/match/v1/matches/by-puuid/'+puuid+'/ids?start='+str(i)+'&count=100&api_key='+key)\n",
    "    matchs.extend(r.json())\n",
    "    i = i + 100\n",
    "print(matchs)"
   ]
  },
  {
   "cell_type": "code",
   "execution_count": 25,
   "metadata": {},
   "outputs": [],
   "source": [
    "puuids = [puuid]"
   ]
  },
  {
   "cell_type": "code",
   "execution_count": 26,
   "metadata": {},
   "outputs": [],
   "source": [
    "for i in matchs:\n",
    "    p = tft.match.by_id(region,i)['metadata']['participants']\n",
    "    puuids.extend(p)"
   ]
  },
  {
   "cell_type": "code",
   "execution_count": 27,
   "metadata": {},
   "outputs": [
    {
     "name": "stdout",
     "output_type": "stream",
     "text": [
      "123\n",
      "['W0PVuZSsnIknsWUcBRnESq3fGTL45q6SqB2BfbmspGBMjc28cBeB5vX5lc-bZSjOHhFG-QtZDlz0VA', 'eqJuJqsRHfvQu9vEKx2FT10yD6399_XmFJYu_BvpZX02znUuTie1xyZ4US_FnqBSqBYyjCFQ0MGa9A', 'Rl19MlhmKsOVj_rg3Cym8BNrTe9o9Nj6q96M31GZM-y_V-bGow1TcSvqqMit7fCYUyNv3VUyc_styQ', '-mII9zkWfh3hwWDeLjGii1hTmnJId47M9fU2_3zPGOcfOyO6xAsajQSsqFdBGDcMkW_d6oTi2Hgjbg', '6RihOCoEU6vf4ULVTno_kiZ9nAWGaF_HEjeHDP3zTHAFaFLfrSTrqQdchaMRs-Sis9o3Excn5pat7A', '5lnCVrbCNgy2YbM2zgnHDo1fNVbMbfKw5u06jdKsqQBYBJOUW8KSLYMD1fxKrE3OSLsZfLwGon3nvg', 'GJuD02NBGjxf_QgvMFhYc19LW6RtJ40XgoKvtiWLg3iC4HKZ0oFJD_42JMaK7z6U3yKWh5nZJw2MIw', '9oJEvk2V3doil0rHzzrMQJ_0ndMYe_M1aSaCgz4vIYLiVaYG_omhH7xYh8hNVEu7gn-e8V_DNCtL8Q', 'BOOm0XE68HofixKV9swtRxqSsuVjtI_YZmhodDekvj0ySQ2zG9M5FnyKAuDJDgzakcMhXHozdI0vCw', 'WQdwRXjm6OZ_V7S7ywD77rQwwEFodQb9w-4fkGLbVy3gvdylmdKpBsZ6aSqhaf1--gfAFdEDfIA5IQ', 'iGZfQfVUGsM0UfcexA8ABeXiTtr0hwmHC8LxzySbtnVd-jdbh9Lz72NN7rTNNgtN0KKWT3Cb5RjShA', 'lkloJm6CMKt3bZycTbEw14UV0QXhbj-a_lTGLJ81pVbyWIf_J-pz4sIFynRh02DBm3wHQXKwoeUiPw', 'Pm--HeHfHgk2DxbxqhflmJtID1SRx8Ry_Nw-2Zx9ucBi_rvZj_tf-0i3pPIbN_IeYshipVfDI5Rrlw', 'MnlC9KMHC5oqTx8lBNbDJ2Lqp4UQzHo5C6FxmU07tIWgaT07VRCqroWOYjIYJbC3FOkAskx9iqtNVw', 'f4hnMUXhkvFcUF8DpJHD_jMSS3rldumJs-YjNA2BRs31v4ZJNAPq14RNEtU5T8E-ePNnnZzTeV4jmw', 'tQ4WBuGQeReBn8BZXR3c6oYHCzwQRZCQuiWT08MeU7VdzHvrLvpMsbj4CSOYfjztzkcy4jBO73B5RA', 'Q_eWRc2BT-LA50zd_B9l1qJZf9vdm3qM1md0OSzTapWWQDha4pIAzgVSI0_6AysZaC3bnfgpOdvd0w', '5beiCm7qOkqJyId04q1MMpVP-FM34aw6l2RJ0HB2R1uM7g7VPokljVBbCrGJtOjjTyTCDXgyWJgZVA', 'nnjcNAjf7lqNNpOKQ6rQacR2iWfxS7HDo8qSRQjsyoGjm0s2C8hZ8cmA8TBTaGanQLS9038ola13kQ', 'S_V36q9Vh6a_3aysL3sRoBJrnncb6Qp0dHxpMeMC6-jamBSWm6HR-T8KUUOHz2KUaYScyh1EiYJG2g', 'aJRpteMim7pUtTzg2Etl7I81WScCPwCRrJo3Rk5moXynK0E4i_cvAufQ1kYNjpaIfuNCgjOtrwlWSg', 'i8cRbZxfLy707ukj2I3_KNIuTtljyOyb3n_rIWKeKgdmZjUG5r077jIzIk8shCkq3QaOb-tAx-9J4Q', 'HxDkr_dP0uZaZqwvw4RmGf7FORHV5oopB9K_lN4SWfqze-pcph1hGY0zNIsN8_4fz8fGKVHsOD-WFQ', 'A2WWmGn5ZMKY_4g95N-a0aMkVzHLpxklizWMjzi_SQEQU2EyA5FC0q6t1K9U10hoUauz7dgLTTwU1g', 'c8l4C33N0khVwQIsw7aDWqmIb16LwDz15xgY8gsjByIU02RDON4ht8dbGFBY_CPkC3Vh_g9cY3DQpQ', 'WbNt5afbn2mwvBjXhQgB4RdANd7xBn782SkzBZq0vAu83gXLd3m4hx9iadj0s_gD3TQ61IDnqFGJRA', 'SU2ucb7z9SMzcdKC-p0_-ueTfd8xGaN1HY_b5CPIk4gRJDsL95-ag1kPoBjKSzH0TTaklGwBSjcyyg', '22toRbGKIgnDzk1KKEaYfTFKI4fTDx_l_H_2qDnXpAaAm02xkPA13nLnE7qFUpYcWRD1JJ1SqX2a_Q', 'UKowEJ47EZdyw9y96a9QyO6mQpzmXPP_zVjSrQJTIMUhrp1Z6EXVIabsCKPIJET3qtjMZjQ8BIRcZQ', 'mdjQgUyVPpQgOzsXl4u2z7k1i3NXFbZKNisbxGzN60JFdowN4iwp0l_sYywZnPpAWO5kYG32J49v2w', 'HV-bf_NciC1Kjdq2WAhzEPpYJNx3vw6PKG-MA-iKac0s8DyjVGdJ8q4Cx_yiUhjTINA12a07HW3GAA', 'jHkbsx08LITVzTK_MGSth2Ge-dHuQy7c9du51REy2FmBrt65wv38RzLvh0IpkaaFIky0y609mPy0Nw', 'Y_72IIyQ99O3xo_skSFoG2Jhy30pmPE2gxn1XRS0GHqgoUCDQ0i-Rc2DRvHKTwiNLjjh325SqpiYDQ', '3bGlpsfjScRV_QEORVTT0RxuRFQaNItmx-TvXPYhlq1o4XbuiaPnIFdpyCdjt4l6P4xcTV1WVX1sBg', '-t9H68InTdMigIWST2q5LojHUICspRnHFFtfwuuwoY_-lpJWyJCmPEkdZmGTSj8EN1d63VeobRaHxQ', 'BTwgZ64waojG5SzIVnIhQbdz8xzjAltX8upYMNuJhVxUnxjm1se2u5ML1eZY1489s1XPW55xO11rag', 'lDHVp1xawa9QQWJR5oe9Wq8dnPfWk9EtwMqxsLnbokELwEqisrMnVlFje0W-HIr6Ag4dfOVg5TfM6Q', 'yPuicv9yDw6Ru-dlaxzkxVMSvyXc4euoF5N4RrSog-VXJPVsxp4C1N4y1fnXpGQQ4ckpEdgICmyXTw', 'OIi539uWrW5OUNIL4GE1bhg27ZUbb7hfp8wQ8CcWlxpWTKaSZHEXvNlZNdiVFvuRHZQlnBeWoiFyLQ', 'VW_1JQMY0VdBAj3hAt5vA6OgZod68Px947yYpHi7snl6i2gAdLruGaE13KiB2SM1ERf_fmGhVXx2Yg', 'zs1DDJRgGk_RqDyxcwCHTRWGlqZL1eYohPMSG7SG7yrdgOJOBm9M-eSGQD7ciF8lia2sCJzkix4FWw', '1Q2rGKilk0yqXWWbnLz_WWIVK2wDN-5wg0bfUFOT0GA5-fEWyXbuBRF4DwrlLpYCCkDh7E0yTAcfxg', '7gQZ-hibSouzw7k0cvV7GH4t4W7iTgHh7p8nEONnAX3IXGHlRImjhDOOM0eY9XwlAZKN62mdq-U5ow', 'wBOqt-oHpZrhVrjw112Y6ZqTSyHxU6BwdbNRt5f6hF3MKORQHp-m4SN8viHUncL3xAslkeeiLgVEbw', 'bLNzs17g0EkaXRAmnjNseuUJUhi7vdot2ECSmcJ-2TmutLI1eSx1GEcPbeqZRyfprNyGrqnz4GwMiQ', '1CkVrb7lUe3xEt6v9fP4Dz1aRNX4gIcAItcpbediwUwzYr-Qd1JaiKTEOhKqNuSP0fnyEoETtckeAQ', 'abCe2nkVF4yCw3RQyiOsjcX7wGCDqVA6lkISFLa9aO9hlFdMlkE867diLYmcL9jZaVWlH0gV8bjL0Q', '61iZ9H7l9wTrWAjRB86wBbGTdSS5flvQi0KrP5HeFYt2feXmydPd3Qnf-FQDEs0YsTFUbPSsY5EGuA', 'NJ6YqNJYUwSdrQfVsaWkwNnIF5SS22vvcjj8RzvBPxrZOL_MEOBO2KDPNbRSLikCm3VGUB7jRku_3A', 'q0w8jD5yuZt9WFyxT0LUEpJgmBxXveFK64ryoWttTNM4L0WUhCTijwcUe2Y88D2Ij0GtXGh6U5Ee1w', 'CjCWHNM7mijHeb-bs8Aq7241SXXCZEbZ1_XPCGYzC8YUwRu2lyO6hz-dtN3bdswaRbky0He5ql6reA', 'keN0IvgCGwYxxEdPXHvewvCrPwH4MrInv6GA2DmHYCN0z3wdG5PAgIXSQ09p4bVL7vripH9thbVe2A', 'SihxRnqFRPMoguoljyDi7uqzoBkDtho5YI2vCz4CaqTetKNDWuFVtXhFUZIIEK259bZ0Ma0KSpacuA', '8GCZuToHxP8efWNdX0yQu5vDXjKIfzfJxCIkl5CL6-u1YhinxS7lOthfc_6sFfVFRyF9Jx0f_3QEcw', 'uM3nVtzs448txriUy4mMzb4UFJQ6jD3X4W4MnWjQCYMXjcIuBeaPmxsdKJKogMyxAbsPsep_DZevlQ', '0sk7gPfgCxKt0IoSQvRG8gqf5UaFial_UN1etFoArsFoSzNqSewngHgrihafahmEXAWNmiGjqfjucw', 'AIQUA7Svcvuor9kmXwBUiERmjsu7N4UaeSg_a8IJsohH8064NBlvdWbK9WNY-vVG84EgAgIUDZPL2A', '3fv0Rh8oLciM7-FaB01VlKFYjkfhwJxSsmJtimJkQ1vZNdJnjKhWVIEY91NrpuSVBfMsgWggpYwnFg', 'qA8P7hj163s7RAgHC1iI4QwWgX1JauPnF79rVkUBp-ALgwKlfzjs_c6bRRhNzZcSWsIt2qdzT41S-g', 'BHFXx7sY27hlzJYo24AI0ix51JW5LOpgRtykBJc15aFHppCBJ7MvR8r1ZD_KUH0dy-RcwVxsT8LM9A', 'M5n8DsbQjX2cBPVL5me5P8Avqk-d9kSPiX7dpagKyR5SJgGifMNcW_ZYeMrj6-mpEWO-cLqNEZllWw', 'FiLdcYNlmxXvoQIpjJRFBU6nnnniKfWXUT-2vDHnCIxHKShLJT2kdGLudnFpSsTXp8L-XXe_R1OsYQ', 'Sb0Hp9FoiQ-kqbIcyBzz6_4orRZW8RRfcydkgILYB9N8SemVQDaaHak-jmRptiwULk-Lg4Bir8V_sA', 'eCUyjNop3yCAb3koBpPLmYIRp9fMpFYr9XR1FeD_GVeRmytQaaDTKoCHRXpfKZbtfHQucDz4Z59ivQ', 'zeaf2gVXQSfZ8vpsbMsiJqhZ6ohLwdDko2ch3pEgW4URZkorSWvV35YbhagqdeWpEOX22pRHZmouTA', 'TTeXRU9aUhi9rYsY72ykERE6GHlT0SFrL9uKEOVr9ZYnfyd3PfIzhprWrXvZ5Dhf4_QQP-4gIs82SQ', 'H3OoeZeUNa0iQP6kx9f-390aq4rzrqBq-caI8p5nv9ScOZNUb-pv8J7ECAQ2lRvDQt-ocyMJKgkYzg', 'Nppm--XzbsdVedFJpto6Vwj6UUBp924YUo77PoBXYw4LY9tHrbG_O8sJ1H_Lz4RFniUYW4JuWpNW5g', 'wjUuGS4S8yzrwK6r9AToa2cu-fHzGIhLg8JZ-kQxDgMuXR0-5LofjEiGP-NM0TJl3LpTpAHys4FvsQ', 'xhedJSIN4zo8p_H0WMws3QklHibQPlYSnKwnAMF1pl4eesnX-XgeNKRmzjhey3SfmzicRiopMO1SFg', 'MQ-bbuWDleDXRh1xMUdbodbY67D-NC6k3S6UvLKmLMxRS7QorSlodsPrJc5naDsmxcibZsFMylcpBg', 'JO922Kq6F_JMnhQmLlei87Q2jitMFMod1vd_oypOMmKnb-c9MrmnOrql3yj0pvSY5qLJokVDOH6GBQ', 'hez1h-g6o1nfbbCJkcbHKNrxp1xM57FMsD0ZH3do4IrmPlSiGtOZkdYHkMfsfEfK3VEO6XEbVxnr3Q', 'jrWHS9Lb2KdK8idi0ZpFeGU3i6jUyQEGInaFMz6jrG1TO0c3XMJWFL24DJ_cWIHxf3TzNZbjZOe00A', 'W9jCW_LqGJktXVXW_BohIonPiAK0qsRSgNhh33143dBffJ7-4vu_bLEUr2lLwxcSuxAeoF1OGs75cQ', 'fXHe6V42fDuAKeKszcqjAFnw4xaSRvYepSC5BHC-sgdUTc1DyAFPGkmxmrdRqCzX9Re8j_yRkqJliA', 'UGirp_CM-cZnwA3qZCCqPnZJWnxsPFHDi7mL0U_DeuFx8eAuQ5pGeM4pXD303IFrTYJA3Gu_2fqz4w', 'qjX00VF_diWh_TNIU2yUJJrmX1wFjo_NihBunxryu6YzoRhzkVkdxXDMSDALp5OHKQhrW-ODqMAEww', 'AVrhWw3gnzRPjOgDNt349bDYf2iQZGDU4Sa7ktMyt3nPDBF6CV4UNNl_I6HOfGksmIFrCBSkhOMmlw', '6YLUxbTZRGB93kh2jgkM8gP2-zf2kPrxARlSL_gCGnX0QXYYs8SM-U-gVe8a21x3SUpEpInO6wU3zg', 'eTIEU8BQuw7EyQEMBGhBgOJI8TH3fv9WFD9oaQOm_ToJ3HSr-4aUsKDyQifOXqzlFi15JUX02bRDzg', 'KJD0Tt_F92Nxw-mSEUX8GopC8xO4QflM5S3m8oo93-2U-f_xJaqjNLNQPvuG8dl3E5yk676J1ZQE7w', 'n_kSDSE_e_1dhxOhsf-d_m22a9waZEZGKfyvU1g6xzj2h-9ieJD-Vj-McO4RFOn7qRzaV1s5IQspJg', 'WROQWBYUITZFPes48_tzdOaNGMsr4i4qpRKiU1-RaDiSTLbCjMHC-bfl72cj6kUE89ZgPdSnRue7gw', 'luBN2XcPH-vR9nOQL_63VTYjng_m6FTceyf1i4dtRqUEDBtvcvFhf9GRbs-s_IeOLVpouKZfkDdJlA', 'GMdxNl5c3KUVDzFuyRy3BNyyBPAILgfixaJ5n58A1mSASJMAqAH4VP_R72rIWsrFfzM_n4IuQ8NJPw', 'R3Vwvlw61G20txjNQR_sqaT7rTlqoRKPFGIt4qWPOhBlVGyYUovpB7sYKSxq00GCrbaECknYGikkzA', 'Nw5Dht3kKdMWoNUFIrsgWOnT2bz8lvdqCsjp3Zv-xs4g_jiLa0T_IV-QGBmuZDIA-KCVoIKVP5yLGA', 'jZV2WSZ1Fu7vcddxA6oHM7JZuRfPYKRCQJWFQt6Rs2sywQgML5slpiJnBrGwQOm3pZndn89h5q8sTw', '3ugL-ZNdXx_oqDp4yyEo7kTkyo4WJVXvCLbQpIilFJIgHOUj4e2Qmpx_dj9jP3vFJy2xmmWCkw5LwQ', 'wNz_q2SUXqMHNEK3hKz_ZDKO0PlFgNYs7niq_lOh7oREVGMAnxz47zlXwMS9FO5Qh2kB8QCLv77BGA', 'dcJZPZakwia1uNcgouVXiwoofjcBrHeGwQkebU5uQhpo7OSlLdlFXKmBT9rerv9Zgyjbl_H50kgsSg', 'V67A9IDeJfyAyHHMCze5gYx5YO8Wmhcr8oi3bbdUsjWJm8D9_VHMtDZ4kAfj_0XUE8FJM5zVpThwzw', 'HFinWXDmiPWjvxBX1NDEJK-evyOQKkRaNWcizhcTui2-FWhHBwKUMfBouk1RBVwzXCm2JVwmo4SYQQ', 'OatdrQMXRUidUpfwp19cCbwt2zBijCotq1vqKv4T6o1LAeED31tnbl44-JHrNmY4oV2W8Az0E7lEfg', 'PNkKgBnk3EQbuPxhazYMjoaKNIy6ube_CmOkzTGWTRsphQNnG3G30XULqEVhB1DiqhSvA1N2kvz-jQ', 'MT9onfZzAdUlo_etm8mfUioks5OKN07dFQ_z-Y1ojlygmZvDUhCQ3WSI7iV0sxziMlfo4zZxN_4Ieg', 'Z6C9-VsPiwYJmQxg0LZQfjRDTCcsv1oHPNnbxBrxQyOp3b_CVCeNpFeUMlT5JNNijK9knOpHzoO-lQ', 'AgZa-KBTKQKR-4EDI0J2p3UTGb4vWyoa6YZexz-62Fv59gjrzi7tm9gtE76M4QS-ECYrOwHdFTIIyA', 'PWQFIXcSIRUyDl9q3XqGEq1dOvt3Ro1xQ3U3Qi7k_7BB8Kz7oK9JQ0aS8JG80bt3mocw115ZRSGZwg', 'yL7-ziRP-DfLue4EOxltXznGEsHh3ryrPPftn3Bi8M7hHAVaYGQIi1gPMgXESsuyCzQhFiTeLI3D-A', 'gfQjbsaZt-kRSLHkb5nKvFAoqOnHiaTz9kvrTq7wAc0QFWWIbkKvlFYUs7u0DJ6rQXtCEmj2gi5JAA', 'pMKTMCgEbs9tvEmJ1wi-hhJqX4BImkMUq68_xsZW3gqe7AVNX6ITgbwUj9kNALmikRha_WjqWbQ3iQ', '6_4Sa1tvmsWnGf6OcZrIRUMqIJ2KwRqc3n_s2U_CDMRaRDz3CzPTH88Nu-T9Y1Jy9YKXLKgYH2qBog', 'rdyrMbgyVQgogQMagwzs4meuC-NgW7O9JnI0_Mpd7IR5m6sFKVSJEQe93eSuTg4lJMCx6PH_VMubDg', 'HxVcoS1rR-TJIhnk0bxEffwgd4RtCVFwtjbpZcE31yKamznz_VEPkvyK0dkh9EneHuEVjbbY8dsH-g', 'oI8GsAl1aZdL4_9v8yo1rdMT3C_SsMvKWjB_9SOCduvFgQS45YyHkFRppd00x_pZmtVhC00JgQnNAA', 'ioWEA65shPtnGbsW-F2EJmDyeEQBhLAnDgqbSHVpEKvN850mES_9i8havihSh4GbrhNDqGoeVtReUg', 'vdmbSUHKh2pBJ0NXcdoztR4TuFkq3FPCZuqLU33uhfg6qBnA8JTSEJ3vl5xDHWec3YCYWzy3e1Tz1A', 'rxBZSRy73GqASzsAb2VIihZu_HcOP7NH6_L5l8LaI0gIRApuy6mIwVKKJcpEB5CaJ7aGWHthbu90mQ', 'IJz-ryR5wsFZ8lARvekrZFqEy-m9Pb51gQGTHX-Pf_4Brr9s55oXR4y_pxDr3yj6vnUUWi_F7v3DPg', 'Gu7tEUrbVL7Ad0KdScWiCdbPfaO_YZvtdl50yEOHqhypxONWILlkd_CmpD-SD8WR70kPDAeLNP-eLQ', 'f_qwcRi6lOrUAcXWrkcsH94fWWMGbPQlnbqoBxhkH5pkK66e84SUjfBJFnvH029GKg85GzZv8K79dw', 'sLdct5jpjZlAZ4wG-5JLwCR0AVHrqf7HnxQMtWvtmiLgHE1vTEsrjVo0exhMlaeCQBRbLutY4ZuX1w', '_KDYVLuewPDF_SZbhWK0cV3PBI4eNYJa2qnoeN5i00Fz2Q5X6jkkjOVBTsi38WkfN1UBeIcnR93YeQ', 'lPjumZH8M6ORMyJgdSlsEADkjnGIlZALdkqWToZqe5SuNPjscf7WtvVoeWXlO3Ug3roHbX2uWpOHVw', 'cvYn_GU2IPr-v-9MCWdeOt76JBEknrGwdEpA7d8wzkqbN8FFYZrY41te0MnszN2DGGYzlwLkLnc3hg', 'ejAu1cYwFRcYhv4kX-KiPdQdyNsO1HNoQZAt0Nx69boTtFhesGk5yQqgBI7a40nRlz-ZQxIKR84G8A', 'a32V8QU3qhXjK02LToCJNwMLoasw63zZZw-Qp7jlVGspgL9CvR_Kp_7v4hmqmZ4AHV7-VEhD5I9LFA', 'PuD1mCkEIEewZ3J_XVqQbNVx0gY8IZcw7MsuS8DnSnB_mWqSKItyvQPNgzjRrmtZ39u0eG0Q7sxvPQ', '4eYs7gqIXLX9pd0XqLGZNxaCj_WnwVRMjEUfe3TtIfEjzmn8G4PvN3SJr_q0OMLGhML57qcRzf_Kqg', 'omLIdnh4_15m9u4CVEYgCW7bX9DOmyCySUsy57zQFWldKe80O6EKD7RkiabRnVUrLT2unKtwCo8rdA', 'O6CF4HbDmUwOxWj_Yx0DhyA-rtYucSRDKX7rRHmSV3nzSMz1aZyiJ5z1lLYxDsNSiJXMRDpP8q9gSg']\n"
     ]
    }
   ],
   "source": [
    "puuids = list(set(puuids))\n",
    "print(len(puuids))\n",
    "print(puuids)"
   ]
  }
 ],
 "metadata": {
  "kernelspec": {
   "display_name": "Python 3",
   "language": "python",
   "name": "python3"
  },
  "language_info": {
   "codemirror_mode": {
    "name": "ipython",
    "version": 3
   },
   "file_extension": ".py",
   "mimetype": "text/x-python",
   "name": "python",
   "nbconvert_exporter": "python",
   "pygments_lexer": "ipython3",
   "version": "3.10.4"
  },
  "orig_nbformat": 4,
  "vscode": {
   "interpreter": {
    "hash": "a7ce6c5f3f05fb9fcff59059ff67f476542d5497c11a082badfb26244c77e35c"
   }
  }
 },
 "nbformat": 4,
 "nbformat_minor": 2
}
