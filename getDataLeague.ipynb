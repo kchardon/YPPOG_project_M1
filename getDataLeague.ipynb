{
 "cells": [
  {
   "cell_type": "code",
   "execution_count": 118,
   "metadata": {},
   "outputs": [],
   "source": [
    "from riotwatcher import LolWatcher, ApiError\n",
    "from riot_api import key\n",
    "import pandas as pd\n",
    "from datetime import datetime\n",
    "\n",
    "region = 'euw1'\n",
    "\n",
    "lol = LolWatcher(key)"
   ]
  },
  {
   "cell_type": "code",
   "execution_count": 2,
   "metadata": {},
   "outputs": [],
   "source": [
    "me = lol.summoner.by_name(region,'Katiounette')\n",
    "puuid = me['puuid']"
   ]
  },
  {
   "cell_type": "code",
   "execution_count": 3,
   "metadata": {},
   "outputs": [],
   "source": [
    "matchs = lol.match.matchlist_by_puuid(region,puuid, count = 100)\n",
    "i = 100\n",
    "while (lol.match.matchlist_by_puuid(region,puuid, count = 100, start = i) != []):\n",
    "    matchs.extend(lol.match.matchlist_by_puuid(region,puuid, count = 100, start = i))\n",
    "    i = i + 100"
   ]
  },
  {
   "cell_type": "code",
   "execution_count": 164,
   "metadata": {},
   "outputs": [
    {
     "data": {
      "text/html": [
       "<div>\n",
       "<style scoped>\n",
       "    .dataframe tbody tr th:only-of-type {\n",
       "        vertical-align: middle;\n",
       "    }\n",
       "\n",
       "    .dataframe tbody tr th {\n",
       "        vertical-align: top;\n",
       "    }\n",
       "\n",
       "    .dataframe thead th {\n",
       "        text-align: right;\n",
       "    }\n",
       "</style>\n",
       "<table border=\"1\" class=\"dataframe\">\n",
       "  <thead>\n",
       "    <tr style=\"text-align: right;\">\n",
       "      <th></th>\n",
       "      <th>playerID</th>\n",
       "      <th>matchID</th>\n",
       "      <th>duration (s)</th>\n",
       "      <th>start</th>\n",
       "      <th>end</th>\n",
       "      <th>championName</th>\n",
       "      <th>championId</th>\n",
       "      <th>pings</th>\n",
       "      <th>ePings</th>\n",
       "    </tr>\n",
       "  </thead>\n",
       "  <tbody>\n",
       "  </tbody>\n",
       "</table>\n",
       "</div>"
      ],
      "text/plain": [
       "Empty DataFrame\n",
       "Columns: [playerID, matchID, duration (s), start, end, championName, championId, pings, ePings]\n",
       "Index: []"
      ]
     },
     "execution_count": 164,
     "metadata": {},
     "output_type": "execute_result"
    }
   ],
   "source": [
    "matchData = pd.DataFrame({'playerID' : [],'matchID' : [], 'duration (s)' : [], 'start' : [], 'end' : [], 'championName' : [], 'championId' : [], 'pings' : [], 'ePings' : []})\n",
    "matchData"
   ]
  },
  {
   "cell_type": "code",
   "execution_count": 165,
   "metadata": {},
   "outputs": [
    {
     "name": "stdout",
     "output_type": "stream",
     "text": [
      "                                                   0                1     2  \\\n",
      "0  MT9onfZzAdUlo_etm8mfUioks5OKN07dFQ_z-Y1ojlygmZ...  EUW1_6346539622  1711   \n",
      "\n",
      "               3              4            5   6  7  8  \n",
      "0  1680633816166  1680635527190  MissFortune  21  5  2  \n"
     ]
    }
   ],
   "source": [
    "for j,i in enumerate(matchs):\n",
    "    p = lol.match.by_id(region,i)\n",
    "    for player in p['info']['participants']:\n",
    "        if player['puuid'] == puuid:\n",
    "            cName = player['championName']\n",
    "            cId = player['championId']\n",
    "            ePing = player['enemyMissingPings']\n",
    "            pings = player[\"allInPings\"] + player[\"assistMePings\"] + player[\"baitPings\"] + player[\"basicPings\"] + player[\"commandPings\"] + player[\"dangerPings\"] + player[\"getBackPings\"] + player[\"holdPings\"] + player[\"needVisionPings\"] + player[\"onMyWayPings\"] + player[\"pushPings\"] + player['visionClearedPings'] + player['enemyMissingPings'] + player['enemyVisionPings']\n",
    "    print(pd.DataFrame([[puuid,p['metadata']['matchId'],p['info']['gameDuration'], p['info']['gameStartTimestamp'], p['info']['gameEndTimestamp'], cName, cId, pings, ePing]]))\n",
    "    matchData.loc[j,:] = [puuid,p['metadata']['matchId'],p['info']['gameDuration'], p['info']['gameStartTimestamp'], p['info']['gameEndTimestamp'], cName, cId, pings, ePing]\n",
    "    break"
   ]
  },
  {
   "cell_type": "code",
   "execution_count": 166,
   "metadata": {},
   "outputs": [
    {
     "data": {
      "text/html": [
       "<div>\n",
       "<style scoped>\n",
       "    .dataframe tbody tr th:only-of-type {\n",
       "        vertical-align: middle;\n",
       "    }\n",
       "\n",
       "    .dataframe tbody tr th {\n",
       "        vertical-align: top;\n",
       "    }\n",
       "\n",
       "    .dataframe thead th {\n",
       "        text-align: right;\n",
       "    }\n",
       "</style>\n",
       "<table border=\"1\" class=\"dataframe\">\n",
       "  <thead>\n",
       "    <tr style=\"text-align: right;\">\n",
       "      <th></th>\n",
       "      <th>playerID</th>\n",
       "      <th>matchID</th>\n",
       "      <th>duration (s)</th>\n",
       "      <th>start</th>\n",
       "      <th>end</th>\n",
       "      <th>championName</th>\n",
       "      <th>championId</th>\n",
       "      <th>pings</th>\n",
       "      <th>ePings</th>\n",
       "    </tr>\n",
       "  </thead>\n",
       "  <tbody>\n",
       "    <tr>\n",
       "      <th>0</th>\n",
       "      <td>MT9onfZzAdUlo_etm8mfUioks5OKN07dFQ_z-Y1ojlygmZ...</td>\n",
       "      <td>EUW1_6346539622</td>\n",
       "      <td>1711.0</td>\n",
       "      <td>1.680634e+12</td>\n",
       "      <td>1.680636e+12</td>\n",
       "      <td>MissFortune</td>\n",
       "      <td>21.0</td>\n",
       "      <td>5.0</td>\n",
       "      <td>2.0</td>\n",
       "    </tr>\n",
       "  </tbody>\n",
       "</table>\n",
       "</div>"
      ],
      "text/plain": [
       "                                            playerID          matchID  \\\n",
       "0  MT9onfZzAdUlo_etm8mfUioks5OKN07dFQ_z-Y1ojlygmZ...  EUW1_6346539622   \n",
       "\n",
       "   duration (s)         start           end championName  championId  pings  \\\n",
       "0        1711.0  1.680634e+12  1.680636e+12  MissFortune        21.0    5.0   \n",
       "\n",
       "   ePings  \n",
       "0     2.0  "
      ]
     },
     "execution_count": 166,
     "metadata": {},
     "output_type": "execute_result"
    }
   ],
   "source": [
    "matchData"
   ]
  },
  {
   "cell_type": "code",
   "execution_count": 167,
   "metadata": {},
   "outputs": [],
   "source": [
    "for i in range(matchData.shape[0]):\n",
    "    matchData.loc[i,'start'] = pd.Timestamp(datetime.fromtimestamp(matchData.loc[i,'start']/1000))\n",
    "    matchData.loc[i,'end'] = pd.Timestamp(datetime.fromtimestamp(matchData.loc[i,'end']/1000))\n",
    "    matchData.loc[i,'weekDay'] = matchData.loc[i,'start'].day_name()\n",
    "    matchData.loc[i,'startHour'] = matchData.loc[i,'start'].hour"
   ]
  },
  {
   "cell_type": "code",
   "execution_count": 168,
   "metadata": {},
   "outputs": [
    {
     "data": {
      "text/html": [
       "<div>\n",
       "<style scoped>\n",
       "    .dataframe tbody tr th:only-of-type {\n",
       "        vertical-align: middle;\n",
       "    }\n",
       "\n",
       "    .dataframe tbody tr th {\n",
       "        vertical-align: top;\n",
       "    }\n",
       "\n",
       "    .dataframe thead th {\n",
       "        text-align: right;\n",
       "    }\n",
       "</style>\n",
       "<table border=\"1\" class=\"dataframe\">\n",
       "  <thead>\n",
       "    <tr style=\"text-align: right;\">\n",
       "      <th></th>\n",
       "      <th>playerID</th>\n",
       "      <th>matchID</th>\n",
       "      <th>duration (s)</th>\n",
       "      <th>start</th>\n",
       "      <th>end</th>\n",
       "      <th>championName</th>\n",
       "      <th>championId</th>\n",
       "      <th>pings</th>\n",
       "      <th>ePings</th>\n",
       "      <th>weekDay</th>\n",
       "      <th>startHour</th>\n",
       "    </tr>\n",
       "  </thead>\n",
       "  <tbody>\n",
       "    <tr>\n",
       "      <th>0</th>\n",
       "      <td>MT9onfZzAdUlo_etm8mfUioks5OKN07dFQ_z-Y1ojlygmZ...</td>\n",
       "      <td>EUW1_6346539622</td>\n",
       "      <td>1711.0</td>\n",
       "      <td>2023-04-04 20:43:36.166000</td>\n",
       "      <td>2023-04-04 21:12:07.190000</td>\n",
       "      <td>MissFortune</td>\n",
       "      <td>21.0</td>\n",
       "      <td>5.0</td>\n",
       "      <td>2.0</td>\n",
       "      <td>Tuesday</td>\n",
       "      <td>20.0</td>\n",
       "    </tr>\n",
       "  </tbody>\n",
       "</table>\n",
       "</div>"
      ],
      "text/plain": [
       "                                            playerID          matchID  \\\n",
       "0  MT9onfZzAdUlo_etm8mfUioks5OKN07dFQ_z-Y1ojlygmZ...  EUW1_6346539622   \n",
       "\n",
       "   duration (s)                       start                         end  \\\n",
       "0        1711.0  2023-04-04 20:43:36.166000  2023-04-04 21:12:07.190000   \n",
       "\n",
       "  championName  championId  pings  ePings  weekDay  startHour  \n",
       "0  MissFortune        21.0    5.0     2.0  Tuesday       20.0  "
      ]
     },
     "execution_count": 168,
     "metadata": {},
     "output_type": "execute_result"
    }
   ],
   "source": [
    "matchData"
   ]
  }
 ],
 "metadata": {
  "kernelspec": {
   "display_name": "Python 3",
   "language": "python",
   "name": "python3"
  },
  "language_info": {
   "codemirror_mode": {
    "name": "ipython",
    "version": 3
   },
   "file_extension": ".py",
   "mimetype": "text/x-python",
   "name": "python",
   "nbconvert_exporter": "python",
   "pygments_lexer": "ipython3",
   "version": "3.10.4"
  },
  "orig_nbformat": 4,
  "vscode": {
   "interpreter": {
    "hash": "a7ce6c5f3f05fb9fcff59059ff67f476542d5497c11a082badfb26244c77e35c"
   }
  }
 },
 "nbformat": 4,
 "nbformat_minor": 2
}
