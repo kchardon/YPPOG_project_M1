{
 "cells": [
  {
   "cell_type": "code",
   "execution_count": 1,
   "metadata": {},
   "outputs": [],
   "source": [
    "from riotwatcher import LolWatcher, ApiError\n",
    "from riot_api import key\n",
    "import pandas as pd\n",
    "from datetime import datetime\n",
    "\n",
    "region = 'euw1'\n",
    "\n",
    "lol = LolWatcher(key)"
   ]
  },
  {
   "cell_type": "code",
   "execution_count": 2,
   "metadata": {},
   "outputs": [],
   "source": [
    "me = lol.summoner.by_name(region,'Katiounette')\n",
    "puuid = me['puuid']"
   ]
  },
  {
   "cell_type": "code",
   "execution_count": 3,
   "metadata": {},
   "outputs": [],
   "source": [
    "matchs = lol.match.matchlist_by_puuid(region,puuid, count = 100)\n",
    "i = 100\n",
    "while (lol.match.matchlist_by_puuid(region,puuid, count = 100, start = i) != []):\n",
    "    matchs.extend(lol.match.matchlist_by_puuid(region,puuid, count = 100, start = i))\n",
    "    i = i + 100"
   ]
  },
  {
   "cell_type": "code",
   "execution_count": 4,
   "metadata": {},
   "outputs": [
    {
     "data": {
      "text/html": [
       "<div>\n",
       "<style scoped>\n",
       "    .dataframe tbody tr th:only-of-type {\n",
       "        vertical-align: middle;\n",
       "    }\n",
       "\n",
       "    .dataframe tbody tr th {\n",
       "        vertical-align: top;\n",
       "    }\n",
       "\n",
       "    .dataframe thead th {\n",
       "        text-align: right;\n",
       "    }\n",
       "</style>\n",
       "<table border=\"1\" class=\"dataframe\">\n",
       "  <thead>\n",
       "    <tr style=\"text-align: right;\">\n",
       "      <th></th>\n",
       "      <th>playerID</th>\n",
       "      <th>matchID</th>\n",
       "      <th>duration (s)</th>\n",
       "      <th>start</th>\n",
       "      <th>end</th>\n",
       "      <th>championName</th>\n",
       "      <th>championId</th>\n",
       "      <th>pings</th>\n",
       "      <th>ePings</th>\n",
       "    </tr>\n",
       "  </thead>\n",
       "  <tbody>\n",
       "  </tbody>\n",
       "</table>\n",
       "</div>"
      ],
      "text/plain": [
       "Empty DataFrame\n",
       "Columns: [playerID, matchID, duration (s), start, end, championName, championId, pings, ePings]\n",
       "Index: []"
      ]
     },
     "execution_count": 4,
     "metadata": {},
     "output_type": "execute_result"
    }
   ],
   "source": [
    "matchData = pd.DataFrame({'playerID' : [],'matchID' : [], 'duration (s)' : [], 'start' : [], 'end' : [], 'championName' : [], 'championId' : [], 'pings' : [], 'ePings' : []})\n",
    "matchData"
   ]
  },
  {
   "cell_type": "code",
   "execution_count": 7,
   "metadata": {},
   "outputs": [],
   "source": [
    "for j,i in enumerate(matchs):\n",
    "    p = lol.match.by_id(region,i)\n",
    "    for player in p['info']['participants']:\n",
    "        if player['puuid'] == puuid:\n",
    "            cName = player['championName']\n",
    "            cId = player['championId']\n",
    "            ePing = player['enemyMissingPings']\n",
    "            pings = player[\"allInPings\"] + player[\"assistMePings\"] + player[\"baitPings\"] + player[\"basicPings\"] + player[\"commandPings\"] + player[\"dangerPings\"] + player[\"getBackPings\"] + player[\"holdPings\"] + player[\"needVisionPings\"] + player[\"onMyWayPings\"] + player[\"pushPings\"] + player['visionClearedPings'] + player['enemyMissingPings'] + player['enemyVisionPings']\n",
    "    matchData.loc[j,:] = [puuid,p['metadata']['matchId'],p['info']['gameDuration'], p['info']['gameStartTimestamp'], p['info']['gameEndTimestamp'], cName, cId, pings, ePing]\n",
    "    break"
   ]
  },
  {
   "cell_type": "code",
   "execution_count": 8,
   "metadata": {},
   "outputs": [
    {
     "data": {
      "text/html": [
       "<div>\n",
       "<style scoped>\n",
       "    .dataframe tbody tr th:only-of-type {\n",
       "        vertical-align: middle;\n",
       "    }\n",
       "\n",
       "    .dataframe tbody tr th {\n",
       "        vertical-align: top;\n",
       "    }\n",
       "\n",
       "    .dataframe thead th {\n",
       "        text-align: right;\n",
       "    }\n",
       "</style>\n",
       "<table border=\"1\" class=\"dataframe\">\n",
       "  <thead>\n",
       "    <tr style=\"text-align: right;\">\n",
       "      <th></th>\n",
       "      <th>playerID</th>\n",
       "      <th>matchID</th>\n",
       "      <th>duration (s)</th>\n",
       "      <th>start</th>\n",
       "      <th>end</th>\n",
       "      <th>championName</th>\n",
       "      <th>championId</th>\n",
       "      <th>pings</th>\n",
       "      <th>ePings</th>\n",
       "    </tr>\n",
       "  </thead>\n",
       "  <tbody>\n",
       "    <tr>\n",
       "      <th>0</th>\n",
       "      <td>p8bl0MvZHFp_3Xv0n-ct7HIqGxGD1eNKWbTEWeRkygFnIh...</td>\n",
       "      <td>EUW1_6357952023</td>\n",
       "      <td>1536.0</td>\n",
       "      <td>1.681327e+12</td>\n",
       "      <td>1.681328e+12</td>\n",
       "      <td>Tristana</td>\n",
       "      <td>18.0</td>\n",
       "      <td>2.0</td>\n",
       "      <td>0.0</td>\n",
       "    </tr>\n",
       "  </tbody>\n",
       "</table>\n",
       "</div>"
      ],
      "text/plain": [
       "                                            playerID          matchID  \\\n",
       "0  p8bl0MvZHFp_3Xv0n-ct7HIqGxGD1eNKWbTEWeRkygFnIh...  EUW1_6357952023   \n",
       "\n",
       "   duration (s)         start           end championName  championId  pings  \\\n",
       "0        1536.0  1.681327e+12  1.681328e+12     Tristana        18.0    2.0   \n",
       "\n",
       "   ePings  \n",
       "0     0.0  "
      ]
     },
     "execution_count": 8,
     "metadata": {},
     "output_type": "execute_result"
    }
   ],
   "source": [
    "matchData"
   ]
  },
  {
   "cell_type": "code",
   "execution_count": 9,
   "metadata": {},
   "outputs": [],
   "source": [
    "for i in range(matchData.shape[0]):\n",
    "    matchData.loc[i,'start'] = pd.Timestamp(datetime.fromtimestamp(matchData.loc[i,'start']/1000))\n",
    "    matchData.loc[i,'end'] = pd.Timestamp(datetime.fromtimestamp(matchData.loc[i,'end']/1000))\n",
    "    matchData.loc[i,'weekDay'] = matchData.loc[i,'start'].day_name()\n",
    "    matchData.loc[i,'startHour'] = matchData.loc[i,'start'].hour"
   ]
  },
  {
   "cell_type": "code",
   "execution_count": 10,
   "metadata": {},
   "outputs": [
    {
     "data": {
      "text/html": [
       "<div>\n",
       "<style scoped>\n",
       "    .dataframe tbody tr th:only-of-type {\n",
       "        vertical-align: middle;\n",
       "    }\n",
       "\n",
       "    .dataframe tbody tr th {\n",
       "        vertical-align: top;\n",
       "    }\n",
       "\n",
       "    .dataframe thead th {\n",
       "        text-align: right;\n",
       "    }\n",
       "</style>\n",
       "<table border=\"1\" class=\"dataframe\">\n",
       "  <thead>\n",
       "    <tr style=\"text-align: right;\">\n",
       "      <th></th>\n",
       "      <th>playerID</th>\n",
       "      <th>matchID</th>\n",
       "      <th>duration (s)</th>\n",
       "      <th>start</th>\n",
       "      <th>end</th>\n",
       "      <th>championName</th>\n",
       "      <th>championId</th>\n",
       "      <th>pings</th>\n",
       "      <th>ePings</th>\n",
       "      <th>weekDay</th>\n",
       "      <th>startHour</th>\n",
       "    </tr>\n",
       "  </thead>\n",
       "  <tbody>\n",
       "    <tr>\n",
       "      <th>0</th>\n",
       "      <td>p8bl0MvZHFp_3Xv0n-ct7HIqGxGD1eNKWbTEWeRkygFnIh...</td>\n",
       "      <td>EUW1_6357952023</td>\n",
       "      <td>1536.0</td>\n",
       "      <td>2023-04-12 21:14:32.594000</td>\n",
       "      <td>2023-04-12 21:40:09.131000</td>\n",
       "      <td>Tristana</td>\n",
       "      <td>18.0</td>\n",
       "      <td>2.0</td>\n",
       "      <td>0.0</td>\n",
       "      <td>Wednesday</td>\n",
       "      <td>21.0</td>\n",
       "    </tr>\n",
       "  </tbody>\n",
       "</table>\n",
       "</div>"
      ],
      "text/plain": [
       "                                            playerID          matchID  \\\n",
       "0  p8bl0MvZHFp_3Xv0n-ct7HIqGxGD1eNKWbTEWeRkygFnIh...  EUW1_6357952023   \n",
       "\n",
       "   duration (s)                       start                         end  \\\n",
       "0        1536.0  2023-04-12 21:14:32.594000  2023-04-12 21:40:09.131000   \n",
       "\n",
       "  championName  championId  pings  ePings    weekDay  startHour  \n",
       "0     Tristana        18.0    2.0     0.0  Wednesday       21.0  "
      ]
     },
     "execution_count": 10,
     "metadata": {},
     "output_type": "execute_result"
    }
   ],
   "source": [
    "matchData"
   ]
  }
 ],
 "metadata": {
  "kernelspec": {
   "display_name": "Python 3",
   "language": "python",
   "name": "python3"
  },
  "language_info": {
   "codemirror_mode": {
    "name": "ipython",
    "version": 3
   },
   "file_extension": ".py",
   "mimetype": "text/x-python",
   "name": "python",
   "nbconvert_exporter": "python",
   "pygments_lexer": "ipython3",
   "version": "3.10.4"
  },
  "orig_nbformat": 4,
  "vscode": {
   "interpreter": {
    "hash": "a7ce6c5f3f05fb9fcff59059ff67f476542d5497c11a082badfb26244c77e35c"
   }
  }
 },
 "nbformat": 4,
 "nbformat_minor": 2
}
