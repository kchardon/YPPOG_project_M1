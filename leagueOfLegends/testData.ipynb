{
 "cells": [
  {
   "cell_type": "code",
   "execution_count": 1,
   "metadata": {},
   "outputs": [],
   "source": [
    "import pandas as pd\n",
    "\n",
    "from leagueGetData import getLeagueData\n",
    "from leagueDataCleaner import cleanLeagueData"
   ]
  },
  {
   "cell_type": "markdown",
   "metadata": {},
   "source": [
    "The players' information."
   ]
  },
  {
   "cell_type": "code",
   "execution_count": 2,
   "metadata": {},
   "outputs": [
    {
     "data": {
      "text/html": [
       "<div>\n",
       "<style scoped>\n",
       "    .dataframe tbody tr th:only-of-type {\n",
       "        vertical-align: middle;\n",
       "    }\n",
       "\n",
       "    .dataframe tbody tr th {\n",
       "        vertical-align: top;\n",
       "    }\n",
       "\n",
       "    .dataframe thead th {\n",
       "        text-align: right;\n",
       "    }\n",
       "</style>\n",
       "<table border=\"1\" class=\"dataframe\">\n",
       "  <thead>\n",
       "    <tr style=\"text-align: right;\">\n",
       "      <th></th>\n",
       "      <th>pseudo</th>\n",
       "      <th>tagline</th>\n",
       "      <th>region</th>\n",
       "      <th>birthDate</th>\n",
       "    </tr>\n",
       "  </thead>\n",
       "  <tbody>\n",
       "    <tr>\n",
       "      <th>0</th>\n",
       "      <td>Katiounette</td>\n",
       "      <td>KITTY</td>\n",
       "      <td>europe</td>\n",
       "      <td>01/10/2001</td>\n",
       "    </tr>\n",
       "    <tr>\n",
       "      <th>1</th>\n",
       "      <td>OhSS</td>\n",
       "      <td>6121</td>\n",
       "      <td>europe</td>\n",
       "      <td>01/01/2000</td>\n",
       "    </tr>\n",
       "  </tbody>\n",
       "</table>\n",
       "</div>"
      ],
      "text/plain": [
       "        pseudo tagline  region   birthDate\n",
       "0  Katiounette   KITTY  europe  01/10/2001\n",
       "1         OhSS    6121  europe  01/01/2000"
      ]
     },
     "execution_count": 2,
     "metadata": {},
     "output_type": "execute_result"
    }
   ],
   "source": [
    "targets = pd.DataFrame(columns=['pseudo', 'tagline', 'region', 'birthDate'], data=[['Katiounette', 'KITTY', 'europe', '01/10/2001'], ['OhSS', '6121', 'europe', '01/01/2000']])\n",
    "targets"
   ]
  },
  {
   "cell_type": "markdown",
   "metadata": {},
   "source": [
    "First, I retrieve game data for one or more player(s). The match list and the data for each match is saved for each player in data/matchLists and data/parsedData. (The path can be modified)\n",
    "\n",
    "Here, I get data for the first time and it's saved on the computer."
   ]
  },
  {
   "cell_type": "code",
   "execution_count": 3,
   "metadata": {},
   "outputs": [
    {
     "name": "stdout",
     "output_type": "stream",
     "text": [
      "Saved matchs list for Katiounette#KITTY\n",
      "Error 404 for match EUW1_6343678419 for Katiounette#KITTY\n",
      "Error 404 for match EUW1_6343624912 for Katiounette#KITTY\n",
      "Error 404 for match EUW1_6343264517 for Katiounette#KITTY\n",
      "Error 404 for match EUW1_6343219631 for Katiounette#KITTY\n",
      "Saved parsed data for Katiounette#KITTY\n",
      "Saved matchs list for OhSS#6121\n",
      "Saved parsed data for OhSS#6121\n"
     ]
    },
    {
     "data": {
      "text/html": [
       "<div>\n",
       "<style scoped>\n",
       "    .dataframe tbody tr th:only-of-type {\n",
       "        vertical-align: middle;\n",
       "    }\n",
       "\n",
       "    .dataframe tbody tr th {\n",
       "        vertical-align: top;\n",
       "    }\n",
       "\n",
       "    .dataframe thead th {\n",
       "        text-align: right;\n",
       "    }\n",
       "</style>\n",
       "<table border=\"1\" class=\"dataframe\">\n",
       "  <thead>\n",
       "    <tr style=\"text-align: right;\">\n",
       "      <th></th>\n",
       "      <th>puuid</th>\n",
       "      <th>pseudo</th>\n",
       "      <th>tagline</th>\n",
       "      <th>region</th>\n",
       "    </tr>\n",
       "  </thead>\n",
       "  <tbody>\n",
       "    <tr>\n",
       "      <th>0</th>\n",
       "      <td>p8bl0MvZHFp_3Xv0n-ct7HIqGxGD1eNKWbTEWeRkygFnIh...</td>\n",
       "      <td>Katiounette</td>\n",
       "      <td>KITTY</td>\n",
       "      <td>europe</td>\n",
       "    </tr>\n",
       "    <tr>\n",
       "      <th>1</th>\n",
       "      <td>XVHOCosPT0oX0q7PpWuFaj8Ll2bP9O7fscbCLRVx0tsNxK...</td>\n",
       "      <td>OhSS</td>\n",
       "      <td>6121</td>\n",
       "      <td>europe</td>\n",
       "    </tr>\n",
       "  </tbody>\n",
       "</table>\n",
       "</div>"
      ],
      "text/plain": [
       "                                               puuid       pseudo tagline  \\\n",
       "0  p8bl0MvZHFp_3Xv0n-ct7HIqGxGD1eNKWbTEWeRkygFnIh...  Katiounette   KITTY   \n",
       "1  XVHOCosPT0oX0q7PpWuFaj8Ll2bP9O7fscbCLRVx0tsNxK...         OhSS    6121   \n",
       "\n",
       "   region  \n",
       "0  europe  \n",
       "1  europe  "
      ]
     },
     "execution_count": 3,
     "metadata": {},
     "output_type": "execute_result"
    }
   ],
   "source": [
    "targetID = getLeagueData(targets)\n",
    "targetID"
   ]
  },
  {
   "cell_type": "markdown",
   "metadata": {},
   "source": [
    "Here, the data is retrieved from the computer."
   ]
  },
  {
   "cell_type": "code",
   "execution_count": 4,
   "metadata": {},
   "outputs": [
    {
     "name": "stdout",
     "output_type": "stream",
     "text": [
      "Got parsed data from os for Katiounette#KITTY\n",
      "Got parsed data from os for OhSS#6121\n"
     ]
    },
    {
     "data": {
      "text/html": [
       "<div>\n",
       "<style scoped>\n",
       "    .dataframe tbody tr th:only-of-type {\n",
       "        vertical-align: middle;\n",
       "    }\n",
       "\n",
       "    .dataframe tbody tr th {\n",
       "        vertical-align: top;\n",
       "    }\n",
       "\n",
       "    .dataframe thead th {\n",
       "        text-align: right;\n",
       "    }\n",
       "</style>\n",
       "<table border=\"1\" class=\"dataframe\">\n",
       "  <thead>\n",
       "    <tr style=\"text-align: right;\">\n",
       "      <th></th>\n",
       "      <th>puuid</th>\n",
       "      <th>pseudo</th>\n",
       "      <th>tagline</th>\n",
       "      <th>region</th>\n",
       "    </tr>\n",
       "  </thead>\n",
       "  <tbody>\n",
       "    <tr>\n",
       "      <th>0</th>\n",
       "      <td>p8bl0MvZHFp_3Xv0n-ct7HIqGxGD1eNKWbTEWeRkygFnIh...</td>\n",
       "      <td>Katiounette</td>\n",
       "      <td>KITTY</td>\n",
       "      <td>europe</td>\n",
       "    </tr>\n",
       "    <tr>\n",
       "      <th>1</th>\n",
       "      <td>XVHOCosPT0oX0q7PpWuFaj8Ll2bP9O7fscbCLRVx0tsNxK...</td>\n",
       "      <td>OhSS</td>\n",
       "      <td>6121</td>\n",
       "      <td>europe</td>\n",
       "    </tr>\n",
       "  </tbody>\n",
       "</table>\n",
       "</div>"
      ],
      "text/plain": [
       "                                               puuid       pseudo tagline  \\\n",
       "0  p8bl0MvZHFp_3Xv0n-ct7HIqGxGD1eNKWbTEWeRkygFnIh...  Katiounette   KITTY   \n",
       "1  XVHOCosPT0oX0q7PpWuFaj8Ll2bP9O7fscbCLRVx0tsNxK...         OhSS    6121   \n",
       "\n",
       "   region  \n",
       "0  europe  \n",
       "1  europe  "
      ]
     },
     "execution_count": 4,
     "metadata": {},
     "output_type": "execute_result"
    }
   ],
   "source": [
    "targetID = getLeagueData(targets)\n",
    "targetID"
   ]
  },
  {
   "cell_type": "markdown",
   "metadata": {},
   "source": [
    "I join my two DataFrames."
   ]
  },
  {
   "cell_type": "code",
   "execution_count": 5,
   "metadata": {},
   "outputs": [
    {
     "data": {
      "text/html": [
       "<div>\n",
       "<style scoped>\n",
       "    .dataframe tbody tr th:only-of-type {\n",
       "        vertical-align: middle;\n",
       "    }\n",
       "\n",
       "    .dataframe tbody tr th {\n",
       "        vertical-align: top;\n",
       "    }\n",
       "\n",
       "    .dataframe thead th {\n",
       "        text-align: right;\n",
       "    }\n",
       "</style>\n",
       "<table border=\"1\" class=\"dataframe\">\n",
       "  <thead>\n",
       "    <tr style=\"text-align: right;\">\n",
       "      <th></th>\n",
       "      <th>pseudo</th>\n",
       "      <th>tagline</th>\n",
       "      <th>region</th>\n",
       "      <th>birthDate</th>\n",
       "      <th>puuid</th>\n",
       "    </tr>\n",
       "  </thead>\n",
       "  <tbody>\n",
       "    <tr>\n",
       "      <th>0</th>\n",
       "      <td>Katiounette</td>\n",
       "      <td>KITTY</td>\n",
       "      <td>europe</td>\n",
       "      <td>01/10/2001</td>\n",
       "      <td>p8bl0MvZHFp_3Xv0n-ct7HIqGxGD1eNKWbTEWeRkygFnIh...</td>\n",
       "    </tr>\n",
       "    <tr>\n",
       "      <th>1</th>\n",
       "      <td>OhSS</td>\n",
       "      <td>6121</td>\n",
       "      <td>europe</td>\n",
       "      <td>01/01/2000</td>\n",
       "      <td>XVHOCosPT0oX0q7PpWuFaj8Ll2bP9O7fscbCLRVx0tsNxK...</td>\n",
       "    </tr>\n",
       "  </tbody>\n",
       "</table>\n",
       "</div>"
      ],
      "text/plain": [
       "        pseudo tagline  region   birthDate  \\\n",
       "0  Katiounette   KITTY  europe  01/10/2001   \n",
       "1         OhSS    6121  europe  01/01/2000   \n",
       "\n",
       "                                               puuid  \n",
       "0  p8bl0MvZHFp_3Xv0n-ct7HIqGxGD1eNKWbTEWeRkygFnIh...  \n",
       "1  XVHOCosPT0oX0q7PpWuFaj8Ll2bP9O7fscbCLRVx0tsNxK...  "
      ]
     },
     "execution_count": 5,
     "metadata": {},
     "output_type": "execute_result"
    }
   ],
   "source": [
    "players = pd.merge(targets, targetID, on=['pseudo', 'tagline', 'region'])\n",
    "players"
   ]
  },
  {
   "cell_type": "markdown",
   "metadata": {},
   "source": [
    "Then, I clean the data to get a DataFrame with one line per player."
   ]
  },
  {
   "cell_type": "code",
   "execution_count": 6,
   "metadata": {},
   "outputs": [
    {
     "data": {
      "text/html": [
       "<div>\n",
       "<style scoped>\n",
       "    .dataframe tbody tr th:only-of-type {\n",
       "        vertical-align: middle;\n",
       "    }\n",
       "\n",
       "    .dataframe tbody tr th {\n",
       "        vertical-align: top;\n",
       "    }\n",
       "\n",
       "    .dataframe thead th {\n",
       "        text-align: right;\n",
       "    }\n",
       "</style>\n",
       "<table border=\"1\" class=\"dataframe\">\n",
       "  <thead>\n",
       "    <tr style=\"text-align: right;\">\n",
       "      <th></th>\n",
       "      <th>pseudo</th>\n",
       "      <th>tagline</th>\n",
       "      <th>region</th>\n",
       "      <th>birthDate</th>\n",
       "      <th>puuid</th>\n",
       "      <th>dayMostFreq</th>\n",
       "      <th>hourMostFreq</th>\n",
       "      <th>monday</th>\n",
       "      <th>tuesday</th>\n",
       "      <th>wednesday</th>\n",
       "      <th>...</th>\n",
       "      <th>primaryVar32</th>\n",
       "      <th>primaryVar13</th>\n",
       "      <th>primaryVar23</th>\n",
       "      <th>primaryVar33</th>\n",
       "      <th>secondaryVar10</th>\n",
       "      <th>secondaryVar20</th>\n",
       "      <th>secondaryVar30</th>\n",
       "      <th>secondaryVar11</th>\n",
       "      <th>secondaryVar21</th>\n",
       "      <th>secondaryVar31</th>\n",
       "    </tr>\n",
       "  </thead>\n",
       "  <tbody>\n",
       "    <tr>\n",
       "      <th>0</th>\n",
       "      <td>Katiounette</td>\n",
       "      <td>KITTY</td>\n",
       "      <td>europe</td>\n",
       "      <td>01/10/2001</td>\n",
       "      <td>p8bl0MvZHFp_3Xv0n-ct7HIqGxGD1eNKWbTEWeRkygFnIh...</td>\n",
       "      <td>6.0</td>\n",
       "      <td>2.0</td>\n",
       "      <td>0.168675</td>\n",
       "      <td>0.120482</td>\n",
       "      <td>0.120482</td>\n",
       "      <td>...</td>\n",
       "      <td>0.000000</td>\n",
       "      <td>303.409639</td>\n",
       "      <td>0.168675</td>\n",
       "      <td>0.0</td>\n",
       "      <td>105.180723</td>\n",
       "      <td>5.445783</td>\n",
       "      <td>1.566265</td>\n",
       "      <td>72.674699</td>\n",
       "      <td>29.144578</td>\n",
       "      <td>0.000000</td>\n",
       "    </tr>\n",
       "    <tr>\n",
       "      <th>1</th>\n",
       "      <td>OhSS</td>\n",
       "      <td>6121</td>\n",
       "      <td>europe</td>\n",
       "      <td>01/01/2000</td>\n",
       "      <td>XVHOCosPT0oX0q7PpWuFaj8Ll2bP9O7fscbCLRVx0tsNxK...</td>\n",
       "      <td>0.0</td>\n",
       "      <td>2.0</td>\n",
       "      <td>0.187779</td>\n",
       "      <td>0.138599</td>\n",
       "      <td>0.152012</td>\n",
       "      <td>...</td>\n",
       "      <td>7.393443</td>\n",
       "      <td>323.171386</td>\n",
       "      <td>3.154993</td>\n",
       "      <td>0.0</td>\n",
       "      <td>1278.672131</td>\n",
       "      <td>112.065574</td>\n",
       "      <td>1.989568</td>\n",
       "      <td>608.919523</td>\n",
       "      <td>73.602086</td>\n",
       "      <td>0.448584</td>\n",
       "    </tr>\n",
       "  </tbody>\n",
       "</table>\n",
       "<p>2 rows × 295 columns</p>\n",
       "</div>"
      ],
      "text/plain": [
       "        pseudo tagline  region   birthDate  \\\n",
       "0  Katiounette   KITTY  europe  01/10/2001   \n",
       "1         OhSS    6121  europe  01/01/2000   \n",
       "\n",
       "                                               puuid  dayMostFreq  \\\n",
       "0  p8bl0MvZHFp_3Xv0n-ct7HIqGxGD1eNKWbTEWeRkygFnIh...          6.0   \n",
       "1  XVHOCosPT0oX0q7PpWuFaj8Ll2bP9O7fscbCLRVx0tsNxK...          0.0   \n",
       "\n",
       "   hourMostFreq    monday   tuesday  wednesday  ...  primaryVar32  \\\n",
       "0           2.0  0.168675  0.120482   0.120482  ...      0.000000   \n",
       "1           2.0  0.187779  0.138599   0.152012  ...      7.393443   \n",
       "\n",
       "   primaryVar13  primaryVar23  primaryVar33  secondaryVar10  secondaryVar20  \\\n",
       "0    303.409639      0.168675           0.0      105.180723        5.445783   \n",
       "1    323.171386      3.154993           0.0     1278.672131      112.065574   \n",
       "\n",
       "   secondaryVar30  secondaryVar11  secondaryVar21  secondaryVar31  \n",
       "0        1.566265       72.674699       29.144578        0.000000  \n",
       "1        1.989568      608.919523       73.602086        0.448584  \n",
       "\n",
       "[2 rows x 295 columns]"
      ]
     },
     "execution_count": 6,
     "metadata": {},
     "output_type": "execute_result"
    }
   ],
   "source": [
    "cleanData = cleanLeagueData(players)\n",
    "cleanData"
   ]
  },
  {
   "cell_type": "markdown",
   "metadata": {},
   "source": [
    "Test classification"
   ]
  }
 ],
 "metadata": {
  "kernelspec": {
   "display_name": "Python 3",
   "language": "python",
   "name": "python3"
  },
  "language_info": {
   "codemirror_mode": {
    "name": "ipython",
    "version": 3
   },
   "file_extension": ".py",
   "mimetype": "text/x-python",
   "name": "python",
   "nbconvert_exporter": "python",
   "pygments_lexer": "ipython3",
   "version": "3.10.4"
  },
  "orig_nbformat": 4,
  "vscode": {
   "interpreter": {
    "hash": "31f2aee4e71d21fbe5cf8b01ff0e069b9275f58929596ceb00d14d90e3e16cd6"
   }
  }
 },
 "nbformat": 4,
 "nbformat_minor": 2
}
