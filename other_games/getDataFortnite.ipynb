{
 "cells": [
  {
   "cell_type": "code",
   "execution_count": 2,
   "metadata": {},
   "outputs": [],
   "source": [
    "from fortnite_api import key\n",
    "import requests"
   ]
  },
  {
   "cell_type": "code",
   "execution_count": 5,
   "metadata": {},
   "outputs": [
    {
     "data": {
      "text/plain": [
       "'acb537b9b2c742cd9384d8a8c66df20f'"
      ]
     },
     "execution_count": 5,
     "metadata": {},
     "output_type": "execute_result"
    }
   ],
   "source": [
    "session = requests.Session()\n",
    "session.headers.update({\n",
    "            'Authorization': key\n",
    "        })\n",
    "\n",
    "player = 'Mаppi'\n",
    "response = session.get('https://fortniteapi.io/v1/lookup?username='+player)\n",
    "id = response.json()['account_id']\n",
    "id"
   ]
  },
  {
   "cell_type": "code",
   "execution_count": 8,
   "metadata": {},
   "outputs": [
    {
     "data": {
      "text/plain": [
       "{'result': False,\n",
       " 'code': 'PRIVATE_ACCOUNT',\n",
       " 'message': 'This account is private',\n",
       " 'name': 'Mаppi'}"
      ]
     },
     "execution_count": 8,
     "metadata": {},
     "output_type": "execute_result"
    }
   ],
   "source": [
    "session.get('https://fortniteapi.io/v1/stats?account='+id).json()"
   ]
  }
 ],
 "metadata": {
  "kernelspec": {
   "display_name": "Python 3",
   "language": "python",
   "name": "python3"
  },
  "language_info": {
   "codemirror_mode": {
    "name": "ipython",
    "version": 3
   },
   "file_extension": ".py",
   "mimetype": "text/x-python",
   "name": "python",
   "nbconvert_exporter": "python",
   "pygments_lexer": "ipython3",
   "version": "3.10.4"
  },
  "orig_nbformat": 4,
  "vscode": {
   "interpreter": {
    "hash": "a7ce6c5f3f05fb9fcff59059ff67f476542d5497c11a082badfb26244c77e35c"
   }
  }
 },
 "nbformat": 4,
 "nbformat_minor": 2
}
