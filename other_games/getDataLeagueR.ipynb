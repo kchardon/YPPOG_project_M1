{
 "cells": [
  {
   "cell_type": "code",
   "execution_count": 5,
   "metadata": {},
   "outputs": [],
   "source": [
    "from riotwatcher import LolWatcher, LorWatcher, ApiError\n",
    "from riot_api import key\n",
    "\n",
    "region = 'europe'\n",
    "\n",
    "lor = LorWatcher(key)"
   ]
  },
  {
   "cell_type": "code",
   "execution_count": 3,
   "metadata": {},
   "outputs": [],
   "source": [
    "me = LolWatcher(key).summoner.by_name(region,'Katiounette')\n",
    "puuid = me['puuid']"
   ]
  },
  {
   "cell_type": "code",
   "execution_count": 6,
   "metadata": {},
   "outputs": [
    {
     "name": "stdout",
     "output_type": "stream",
     "text": [
      "[]\n"
     ]
    }
   ],
   "source": [
    "matchs = lor.match.by_puuid(region,puuid)\n",
    "print(matchs)"
   ]
  }
 ],
 "metadata": {
  "kernelspec": {
   "display_name": "Python 3",
   "language": "python",
   "name": "python3"
  },
  "language_info": {
   "codemirror_mode": {
    "name": "ipython",
    "version": 3
   },
   "file_extension": ".py",
   "mimetype": "text/x-python",
   "name": "python",
   "nbconvert_exporter": "python",
   "pygments_lexer": "ipython3",
   "version": "3.10.4 (tags/v3.10.4:9d38120, Mar 23 2022, 23:13:41) [MSC v.1929 64 bit (AMD64)]"
  },
  "orig_nbformat": 4,
  "vscode": {
   "interpreter": {
    "hash": "a7ce6c5f3f05fb9fcff59059ff67f476542d5497c11a082badfb26244c77e35c"
   }
  }
 },
 "nbformat": 4,
 "nbformat_minor": 2
}
