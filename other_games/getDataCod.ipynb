{
 "cells": [
  {
   "cell_type": "code",
   "execution_count": 1,
   "metadata": {},
   "outputs": [],
   "source": [
    "from cod_api import API, platforms\n",
    "from cod_key import key\n",
    "\n",
    "api = API()"
   ]
  },
  {
   "cell_type": "code",
   "execution_count": 10,
   "metadata": {},
   "outputs": [],
   "source": [
    "await api.loginAsync(key)\n",
    "\n",
    "profile = await api.Warzone.fullDataAsync(platforms.Battlenet, \"OhSS\")"
   ]
  },
  {
   "cell_type": "code",
   "execution_count": 11,
   "metadata": {},
   "outputs": [
    {
     "name": "stdout",
     "output_type": "stream",
     "text": [
      "{'status': 'error', 'data': {'type': 'com.activision.mt.common.stdtools.exceptions.NoStackTraceException', 'message': 'Not permitted: user not found'}}\n"
     ]
    }
   ],
   "source": [
    "print(profile)"
   ]
  }
 ],
 "metadata": {
  "kernelspec": {
   "display_name": "Python 3",
   "language": "python",
   "name": "python3"
  },
  "language_info": {
   "codemirror_mode": {
    "name": "ipython",
    "version": 3
   },
   "file_extension": ".py",
   "mimetype": "text/x-python",
   "name": "python",
   "nbconvert_exporter": "python",
   "pygments_lexer": "ipython3",
   "version": "3.10.4"
  },
  "orig_nbformat": 4,
  "vscode": {
   "interpreter": {
    "hash": "a7ce6c5f3f05fb9fcff59059ff67f476542d5497c11a082badfb26244c77e35c"
   }
  }
 },
 "nbformat": 4,
 "nbformat_minor": 2
}
