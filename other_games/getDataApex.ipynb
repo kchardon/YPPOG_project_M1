{
 "cells": [
  {
   "cell_type": "code",
   "execution_count": 30,
   "metadata": {},
   "outputs": [],
   "source": [
    "from apex_key import key\n",
    "import requests"
   ]
  },
  {
   "cell_type": "code",
   "execution_count": 35,
   "metadata": {},
   "outputs": [
    {
     "data": {
      "text/plain": [
       "{'global': {'name': 'Katiounette',\n",
       "  'uid': 2802354833,\n",
       "  'avatar': '',\n",
       "  'platform': 'PC',\n",
       "  'level': 5,\n",
       "  'toNextLevelPercent': 44,\n",
       "  'internalUpdateCount': 37,\n",
       "  'bans': {'isActive': False, 'remainingSeconds': 0, 'last_banReason': 'NONE'},\n",
       "  'rank': {'rankScore': 0,\n",
       "   'rankName': 'Unranked',\n",
       "   'rankDiv': 0,\n",
       "   'ladderPosPlatform': -1,\n",
       "   'rankImg': 'https://api.mozambiquehe.re/assets/ranks/unranked4.png',\n",
       "   'rankedSeason': 'season16_split_1'},\n",
       "  'arena': {'rankScore': 0,\n",
       "   'rankName': 'Unranked',\n",
       "   'rankDiv': 0,\n",
       "   'ladderPosPlatform': -1,\n",
       "   'rankImg': 'https://api.mozambiquehe.re/assets/ranks/unranked4.png',\n",
       "   'rankedSeason': 'arenas16_split_1'},\n",
       "  'battlepass': {'level': '-1',\n",
       "   'history': {'season1': -1,\n",
       "    'season2': -1,\n",
       "    'season3': -1,\n",
       "    'season4': -1,\n",
       "    'season5': -1,\n",
       "    'season6': -1,\n",
       "    'season7': -1,\n",
       "    'season8': -1,\n",
       "    'season9': -1,\n",
       "    'season10': -1,\n",
       "    'season11': -1,\n",
       "    'season12': -1,\n",
       "    'season13': -1,\n",
       "    'season14': -1}},\n",
       "  'internalParsingVersion': 1,\n",
       "  'badges': None,\n",
       "  'levelPrestige': 0},\n",
       " 'realtime': {'lobbyState': 'open',\n",
       "  'isOnline': 0,\n",
       "  'isInGame': 0,\n",
       "  'canJoin': 0,\n",
       "  'partyFull': 0,\n",
       "  'selectedLegend': 'Lifeline',\n",
       "  'currentState': 'offline',\n",
       "  'currentStateSinceTimestamp': -1,\n",
       "  'currentStateAsText': 'Offline'},\n",
       " 'legends': {'selected': {'LegendName': 'Lifeline',\n",
       "   'data': [{'name': 'BR Kills', 'value': 1, 'key': 'kills', 'global': False}],\n",
       "   'gameInfo': {'skin': 'Brain Candy',\n",
       "    'skinRarity': 'Rare',\n",
       "    'frame': 'Rookie Card',\n",
       "    'frameRarity': 'Common',\n",
       "    'pose': 'Talking Game',\n",
       "    'poseRarity': 'Rare',\n",
       "    'intro': 'None',\n",
       "    'introRarity': 'None',\n",
       "    'badges': [{'name': 'Account Level',\n",
       "      'value': 6,\n",
       "      'category': 'Account Badges'},\n",
       "     {'name': None, 'value': 0, 'category': 'Account Badges'},\n",
       "     {'name': None, 'value': 0, 'category': 'Account Badges'}]},\n",
       "   'ImgAssets': {'icon': 'https://api.mozambiquehe.re/assets/icons/lifeline.png',\n",
       "    'banner': 'https://api.mozambiquehe.re/assets/banners/lifeline.jpg'}},\n",
       "  'all': {'Revenant': {'ImgAssets': {'icon': 'https://api.mozambiquehe.re/assets/icons/revenant.png',\n",
       "     'banner': 'https://api.mozambiquehe.re/assets/banners/revenant.jpg'}},\n",
       "   'Crypto': {'ImgAssets': {'icon': 'https://api.mozambiquehe.re/assets/icons/crypto.png',\n",
       "     'banner': 'https://api.mozambiquehe.re/assets/banners/crypto.jpg'}},\n",
       "   'Horizon': {'ImgAssets': {'icon': 'https://api.mozambiquehe.re/assets/icons/horizon.png',\n",
       "     'banner': 'https://api.mozambiquehe.re/assets/banners/horizon.jpg'}},\n",
       "   'Gibraltar': {'ImgAssets': {'icon': 'https://api.mozambiquehe.re/assets/icons/gibraltar.png',\n",
       "     'banner': 'https://api.mozambiquehe.re/assets/banners/gibraltar.jpg'}},\n",
       "   'Wattson': {'ImgAssets': {'icon': 'https://api.mozambiquehe.re/assets/icons/wattson.png',\n",
       "     'banner': 'https://api.mozambiquehe.re/assets/banners/wattson.jpg'}},\n",
       "   'Fuse': {'ImgAssets': {'icon': 'https://api.mozambiquehe.re/assets/icons/fuse.png',\n",
       "     'banner': 'https://api.mozambiquehe.re/assets/banners/fuse.jpg'}},\n",
       "   'Bangalore': {'ImgAssets': {'icon': 'https://api.mozambiquehe.re/assets/icons/bangalore.png',\n",
       "     'banner': 'https://api.mozambiquehe.re/assets/banners/bangalore.jpg'}},\n",
       "   'Wraith': {'ImgAssets': {'icon': 'https://api.mozambiquehe.re/assets/icons/wraith.png',\n",
       "     'banner': 'https://api.mozambiquehe.re/assets/banners/wraith.jpg'}},\n",
       "   'Octane': {'ImgAssets': {'icon': 'https://api.mozambiquehe.re/assets/icons/octane.png',\n",
       "     'banner': 'https://api.mozambiquehe.re/assets/banners/octane.jpg'}},\n",
       "   'Bloodhound': {'ImgAssets': {'icon': 'https://api.mozambiquehe.re/assets/icons/bloodhound.png',\n",
       "     'banner': 'https://api.mozambiquehe.re/assets/banners/bloodhound.jpg'}},\n",
       "   'Caustic': {'ImgAssets': {'icon': 'https://api.mozambiquehe.re/assets/icons/caustic.png',\n",
       "     'banner': 'https://api.mozambiquehe.re/assets/banners/caustic.jpg'}},\n",
       "   'Lifeline': {'data': [{'name': 'BR Kills',\n",
       "      'value': 1,\n",
       "      'key': 'kills',\n",
       "      'rank': {'rankPos': 3892794, 'topPercent': 82.93},\n",
       "      'rankPlatformSpecific': {'rankPos': 1200759, 'topPercent': 94.11}}],\n",
       "    'ImgAssets': {'icon': 'https://api.mozambiquehe.re/assets/icons/lifeline.png',\n",
       "     'banner': 'https://api.mozambiquehe.re/assets/banners/lifeline.jpg'}},\n",
       "   'Pathfinder': {'ImgAssets': {'icon': 'https://api.mozambiquehe.re/assets/icons/pathfinder.png',\n",
       "     'banner': 'https://api.mozambiquehe.re/assets/banners/pathfinder.jpg'}},\n",
       "   'Loba': {'ImgAssets': {'icon': 'https://api.mozambiquehe.re/assets/icons/loba.png',\n",
       "     'banner': 'https://api.mozambiquehe.re/assets/banners/loba.jpg'}},\n",
       "   'Mirage': {'ImgAssets': {'icon': 'https://api.mozambiquehe.re/assets/icons/mirage.png',\n",
       "     'banner': 'https://api.mozambiquehe.re/assets/banners/mirage.jpg'}},\n",
       "   'Rampart': {'ImgAssets': {'icon': 'https://api.mozambiquehe.re/assets/icons/rampart.png',\n",
       "     'banner': 'https://api.mozambiquehe.re/assets/banners/rampart.jpg'}},\n",
       "   'Valkyrie': {'ImgAssets': {'icon': 'https://api.mozambiquehe.re/assets/icons/valkyrie.png',\n",
       "     'banner': 'https://api.mozambiquehe.re/assets/banners/valkyrie.jpg'}},\n",
       "   'Seer': {'ImgAssets': {'icon': 'https://api.mozambiquehe.re/assets/icons/seer.png',\n",
       "     'banner': 'https://api.mozambiquehe.re/assets/banners/seer.jpg'}},\n",
       "   'Ash': {'ImgAssets': {'icon': 'https://api.mozambiquehe.re/assets/icons/ash.png',\n",
       "     'banner': 'https://api.mozambiquehe.re/assets/banners/ash.jpg'}},\n",
       "   'Mad Maggie': {'ImgAssets': {'icon': 'https://api.mozambiquehe.re/assets/icons/mad maggie.png',\n",
       "     'banner': 'https://api.mozambiquehe.re/assets/banners/mad maggie.jpg'}},\n",
       "   'Newcastle': {'ImgAssets': {'icon': 'https://api.mozambiquehe.re/assets/icons/newcastle.png',\n",
       "     'banner': 'https://api.mozambiquehe.re/assets/banners/newcastle.jpg'}},\n",
       "   'Vantage': {'ImgAssets': {'icon': 'https://api.mozambiquehe.re/assets/icons/vantage.png',\n",
       "     'banner': 'https://api.mozambiquehe.re/assets/banners/vantage.jpg'}},\n",
       "   'Catalyst': {'ImgAssets': {'icon': 'https://api.mozambiquehe.re/assets/icons/catalyst.png',\n",
       "     'banner': 'https://api.mozambiquehe.re/assets/banners/catalyst.jpg'}}}},\n",
       " 'mozambiquehere_internal': {'isNewToDB': False,\n",
       "  'claimedBy': '1677359128',\n",
       "  'APIAccessType': 'BASIC',\n",
       "  'ClusterID': '6',\n",
       "  'rate_limit': {'max_per_second': 2, 'current_req': None},\n",
       "  'clusterSrv': 'MAIN-CLUSTER-1'},\n",
       " 'ALS': {'isALSDataEnabled': False},\n",
       " 'total': {'kills': {'name': 'BR Kills', 'value': 1},\n",
       "  'kd': {'value': '-1', 'name': 'KD'}}}"
      ]
     },
     "execution_count": 35,
     "metadata": {},
     "output_type": "execute_result"
    }
   ],
   "source": [
    "player = \"Katiounette\"\n",
    "platform = 'PC'\n",
    "\n",
    "response = requests.get('https://api.mozambiquehe.re/bridge?auth='+key+'&player='+player+'&platform='+platform)"
   ]
  },
  {
   "cell_type": "code",
   "execution_count": 40,
   "metadata": {},
   "outputs": [],
   "source": [
    "me = response.json()['global']['uid']"
   ]
  },
  {
   "cell_type": "code",
   "execution_count": 43,
   "metadata": {},
   "outputs": [
    {
     "data": {
      "text/plain": [
       "<Response [404]>"
      ]
     },
     "execution_count": 43,
     "metadata": {},
     "output_type": "execute_result"
    }
   ],
   "source": [
    "requests.get(\"https://api.mozambiquehe.re/games?auth=\"+key+\"&uid=\"+str(me))"
   ]
  },
  {
   "cell_type": "code",
   "execution_count": 47,
   "metadata": {},
   "outputs": [
    {
     "data": {
      "text/plain": [
       "'Max users reached (AccessType = BASIC & maxUserAllowed = 0) BASIC=0 | SUPPORTER=30 | LEGEND=100 | WUT=250 | UNICORN=1000'"
      ]
     },
     "execution_count": 47,
     "metadata": {},
     "output_type": "execute_result"
    }
   ],
   "source": [
    "action = 'add'\n",
    "r = requests.get(\"https://api.mozambiquehe.re/bridge?auth=\"+key+\"&uid=\"+str(me)+\"&platform=\"+platform+\"&history=1&action=\"+action)\n",
    "r.text"
   ]
  }
 ],
 "metadata": {
  "kernelspec": {
   "display_name": "Python 3",
   "language": "python",
   "name": "python3"
  },
  "language_info": {
   "codemirror_mode": {
    "name": "ipython",
    "version": 3
   },
   "file_extension": ".py",
   "mimetype": "text/x-python",
   "name": "python",
   "nbconvert_exporter": "python",
   "pygments_lexer": "ipython3",
   "version": "3.10.4"
  },
  "orig_nbformat": 4,
  "vscode": {
   "interpreter": {
    "hash": "a7ce6c5f3f05fb9fcff59059ff67f476542d5497c11a082badfb26244c77e35c"
   }
  }
 },
 "nbformat": 4,
 "nbformat_minor": 2
}
