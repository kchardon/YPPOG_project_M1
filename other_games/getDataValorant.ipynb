{
 "cells": [
  {
   "cell_type": "code",
   "execution_count": 3,
   "metadata": {},
   "outputs": [],
   "source": [
    "from riotwatcher import LolWatcher, ValWatcher, ApiError\n",
    "from riot_api import key\n",
    "\n",
    "region = 'eu'\n",
    "regionL = \"euw1\"\n",
    "\n",
    "val = ValWatcher(key)"
   ]
  },
  {
   "cell_type": "code",
   "execution_count": 4,
   "metadata": {},
   "outputs": [],
   "source": [
    "me = LolWatcher(key).summoner.by_name(regionL,'Katiounette')\n",
    "puuid = me['puuid']"
   ]
  },
  {
   "cell_type": "code",
   "execution_count": 5,
   "metadata": {},
   "outputs": [
    {
     "ename": "HTTPError",
     "evalue": "403 Client Error: Forbidden for url: https://eu.api.riotgames.com/val/match/v1/matchlists/by-puuid/MT9onfZzAdUlo_etm8mfUioks5OKN07dFQ_z-Y1ojlygmZvDUhCQ3WSI7iV0sxziMlfo4zZxN_4Ieg",
     "output_type": "error",
     "traceback": [
      "\u001b[1;31m---------------------------------------------------------------------------\u001b[0m",
      "\u001b[1;31mHTTPError\u001b[0m                                 Traceback (most recent call last)",
      "File \u001b[1;32mc:\\Users\\Katia\\AppData\\Local\\Programs\\Python\\Python310\\lib\\site-packages\\riotwatcher\\Handlers\\ThrowOnErrorHandler.py:18\u001b[0m, in \u001b[0;36mThrowOnErrorHandler.after_request\u001b[1;34m(self, region, endpoint_name, method_name, url, response)\u001b[0m\n\u001b[0;32m     17\u001b[0m \u001b[39mtry\u001b[39;00m:\n\u001b[1;32m---> 18\u001b[0m     response\u001b[39m.\u001b[39;49mraise_for_status()\n\u001b[0;32m     19\u001b[0m \u001b[39mexcept\u001b[39;00m requests\u001b[39m.\u001b[39mHTTPError \u001b[39mas\u001b[39;00m err:\n",
      "File \u001b[1;32mc:\\Users\\Katia\\AppData\\Local\\Programs\\Python\\Python310\\lib\\site-packages\\requests\\models.py:1022\u001b[0m, in \u001b[0;36mResponse.raise_for_status\u001b[1;34m(self)\u001b[0m\n\u001b[0;32m   1021\u001b[0m \u001b[39mif\u001b[39;00m http_error_msg:\n\u001b[1;32m-> 1022\u001b[0m     \u001b[39mraise\u001b[39;00m HTTPError(http_error_msg, response\u001b[39m=\u001b[39m\u001b[39mself\u001b[39m)\n",
      "\u001b[1;31mHTTPError\u001b[0m: 403 Client Error: Forbidden for url: https://eu.api.riotgames.com/val/match/v1/matchlists/by-puuid/MT9onfZzAdUlo_etm8mfUioks5OKN07dFQ_z-Y1ojlygmZvDUhCQ3WSI7iV0sxziMlfo4zZxN_4Ieg",
      "\nDuring handling of the above exception, another exception occurred:\n",
      "\u001b[1;31mHTTPError\u001b[0m                                 Traceback (most recent call last)",
      "\u001b[1;32mc:\\Users\\Katia\\Desktop\\IPP\\projet\\YPOG_project_M1\\getDataValorant.ipynb Cellule 3\u001b[0m in \u001b[0;36m<cell line: 1>\u001b[1;34m()\u001b[0m\n\u001b[1;32m----> <a href='vscode-notebook-cell:/c%3A/Users/Katia/Desktop/IPP/projet/YPOG_project_M1/getDataValorant.ipynb#W2sZmlsZQ%3D%3D?line=0'>1</a>\u001b[0m matchs \u001b[39m=\u001b[39m val\u001b[39m.\u001b[39;49mmatch\u001b[39m.\u001b[39;49mmatchlist_by_puuid(region,puuid)\n\u001b[0;32m      <a href='vscode-notebook-cell:/c%3A/Users/Katia/Desktop/IPP/projet/YPOG_project_M1/getDataValorant.ipynb#W2sZmlsZQ%3D%3D?line=1'>2</a>\u001b[0m \u001b[39mprint\u001b[39m(matches)\n",
      "File \u001b[1;32mc:\\Users\\Katia\\AppData\\Local\\Programs\\Python\\Python310\\lib\\site-packages\\riotwatcher\\_apis\\valorant\\MatchApi.py:36\u001b[0m, in \u001b[0;36mMatchApi.matchlist_by_puuid\u001b[1;34m(self, region, puuid)\u001b[0m\n\u001b[0;32m     30\u001b[0m \u001b[39mdef\u001b[39;00m \u001b[39mmatchlist_by_puuid\u001b[39m(\u001b[39mself\u001b[39m, region: \u001b[39mstr\u001b[39m, puuid: \u001b[39mstr\u001b[39m):\n\u001b[0;32m     31\u001b[0m     \u001b[39m\"\"\"\u001b[39;00m\n\u001b[0;32m     32\u001b[0m \u001b[39m    Get matchlist for games played by puuid\u001b[39;00m\n\u001b[0;32m     33\u001b[0m \n\u001b[0;32m     34\u001b[0m \u001b[39m    :returns: MatchlistDto\u001b[39;00m\n\u001b[0;32m     35\u001b[0m \u001b[39m    \"\"\"\u001b[39;00m\n\u001b[1;32m---> 36\u001b[0m     \u001b[39mreturn\u001b[39;00m \u001b[39mself\u001b[39;49m\u001b[39m.\u001b[39;49m_request_endpoint(\n\u001b[0;32m     37\u001b[0m         \u001b[39mself\u001b[39;49m\u001b[39m.\u001b[39;49mmatchlist_by_puuid\u001b[39m.\u001b[39;49m\u001b[39m__name__\u001b[39;49m,\n\u001b[0;32m     38\u001b[0m         region,\n\u001b[0;32m     39\u001b[0m         MatchApiUrls\u001b[39m.\u001b[39;49mmatchlist_by_puuid,\n\u001b[0;32m     40\u001b[0m         puuid\u001b[39m=\u001b[39;49mpuuid,\n\u001b[0;32m     41\u001b[0m     )\n",
      "File \u001b[1;32mc:\\Users\\Katia\\AppData\\Local\\Programs\\Python\\Python310\\lib\\site-packages\\riotwatcher\\_apis\\NamedEndpoint.py:36\u001b[0m, in \u001b[0;36mNamedEndpoint._request_endpoint\u001b[1;34m(self, method_name, region, endpoint, **kwargs)\u001b[0m\n\u001b[0;32m     26\u001b[0m \u001b[39m\"\"\"\u001b[39;00m\n\u001b[0;32m     27\u001b[0m \u001b[39mSends a request through the BaseApi instance provided, injecting the provided\u001b[39;00m\n\u001b[0;32m     28\u001b[0m \u001b[39mendpoint_name into the method call, so the caller doesn't have to.\u001b[39;00m\n\u001b[1;32m   (...)\u001b[0m\n\u001b[0;32m     33\u001b[0m \u001b[39m                            parameters\u001b[39;00m\n\u001b[0;32m     34\u001b[0m \u001b[39m\"\"\"\u001b[39;00m\n\u001b[0;32m     35\u001b[0m url, query \u001b[39m=\u001b[39m endpoint(platform\u001b[39m=\u001b[39mregion, \u001b[39m*\u001b[39m\u001b[39m*\u001b[39mkwargs)\n\u001b[1;32m---> 36\u001b[0m \u001b[39mreturn\u001b[39;00m \u001b[39mself\u001b[39;49m\u001b[39m.\u001b[39;49m_base_api\u001b[39m.\u001b[39;49mraw_request(\n\u001b[0;32m     37\u001b[0m     \u001b[39mself\u001b[39;49m\u001b[39m.\u001b[39;49m_endpoint_name, method_name, region, url, query\n\u001b[0;32m     38\u001b[0m )\n",
      "File \u001b[1;32mc:\\Users\\Katia\\AppData\\Local\\Programs\\Python\\Python310\\lib\\site-packages\\riotwatcher\\_apis\\BaseApi.py:51\u001b[0m, in \u001b[0;36mBaseApi.raw_request\u001b[1;34m(self, endpoint_name, method_name, region, url, query_params)\u001b[0m\n\u001b[0;32m     49\u001b[0m \u001b[39mif\u001b[39;00m \u001b[39mself\u001b[39m\u001b[39m.\u001b[39m_request_handlers \u001b[39mis\u001b[39;00m \u001b[39mnot\u001b[39;00m \u001b[39mNone\u001b[39;00m:\n\u001b[0;32m     50\u001b[0m     \u001b[39mfor\u001b[39;00m handler \u001b[39min\u001b[39;00m \u001b[39mself\u001b[39m\u001b[39m.\u001b[39m_request_handlers[early_ret_idx:\u001b[39mNone\u001b[39;00m:\u001b[39m-\u001b[39m\u001b[39m1\u001b[39m]:\n\u001b[1;32m---> 51\u001b[0m         mod \u001b[39m=\u001b[39m handler\u001b[39m.\u001b[39;49mafter_request(\n\u001b[0;32m     52\u001b[0m             region, endpoint_name, method_name, url, response\n\u001b[0;32m     53\u001b[0m         )\n\u001b[0;32m     54\u001b[0m         \u001b[39mif\u001b[39;00m mod \u001b[39mis\u001b[39;00m \u001b[39mnot\u001b[39;00m \u001b[39mNone\u001b[39;00m:\n\u001b[0;32m     55\u001b[0m             response \u001b[39m=\u001b[39m mod\n",
      "File \u001b[1;32mc:\\Users\\Katia\\AppData\\Local\\Programs\\Python\\Python310\\lib\\site-packages\\riotwatcher\\Handlers\\ThrowOnErrorHandler.py:20\u001b[0m, in \u001b[0;36mThrowOnErrorHandler.after_request\u001b[1;34m(self, region, endpoint_name, method_name, url, response)\u001b[0m\n\u001b[0;32m     18\u001b[0m     response\u001b[39m.\u001b[39mraise_for_status()\n\u001b[0;32m     19\u001b[0m \u001b[39mexcept\u001b[39;00m requests\u001b[39m.\u001b[39mHTTPError \u001b[39mas\u001b[39;00m err:\n\u001b[1;32m---> 20\u001b[0m     \u001b[39mraise\u001b[39;00m ApiError(\u001b[39m*\u001b[39merr\u001b[39m.\u001b[39margs, request\u001b[39m=\u001b[39merr\u001b[39m.\u001b[39mrequest, response\u001b[39m=\u001b[39merr\u001b[39m.\u001b[39mresponse)\n",
      "\u001b[1;31mHTTPError\u001b[0m: 403 Client Error: Forbidden for url: https://eu.api.riotgames.com/val/match/v1/matchlists/by-puuid/MT9onfZzAdUlo_etm8mfUioks5OKN07dFQ_z-Y1ojlygmZvDUhCQ3WSI7iV0sxziMlfo4zZxN_4Ieg"
     ]
    }
   ],
   "source": [
    "matchs = val.match.matchlist_by_puuid(region,puuid)\n",
    "print(matches)"
   ]
  }
 ],
 "metadata": {
  "kernelspec": {
   "display_name": "Python 3",
   "language": "python",
   "name": "python3"
  },
  "language_info": {
   "codemirror_mode": {
    "name": "ipython",
    "version": 3
   },
   "file_extension": ".py",
   "mimetype": "text/x-python",
   "name": "python",
   "nbconvert_exporter": "python",
   "pygments_lexer": "ipython3",
   "version": "3.10.4"
  },
  "orig_nbformat": 4,
  "vscode": {
   "interpreter": {
    "hash": "a7ce6c5f3f05fb9fcff59059ff67f476542d5497c11a082badfb26244c77e35c"
   }
  }
 },
 "nbformat": 4,
 "nbformat_minor": 2
}
